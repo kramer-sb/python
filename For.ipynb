{
  "nbformat": 4,
  "nbformat_minor": 0,
  "metadata": {
    "colab": {
      "provenance": [],
      "authorship_tag": "ABX9TyMgrB/wHFWNOfHNBfDQbAhN",
      "include_colab_link": true
    },
    "kernelspec": {
      "name": "python3",
      "display_name": "Python 3"
    },
    "language_info": {
      "name": "python"
    }
  },
  "cells": [
    {
      "cell_type": "markdown",
      "metadata": {
        "id": "view-in-github",
        "colab_type": "text"
      },
      "source": [
        "<a href=\"https://colab.research.google.com/github/kramer-sb/python/blob/main/For.ipynb\" target=\"_parent\"><img src=\"https://colab.research.google.com/assets/colab-badge.svg\" alt=\"Open In Colab\"/></a>"
      ]
    },
    {
      "cell_type": "code",
      "execution_count": 1,
      "metadata": {
        "colab": {
          "base_uri": "https://localhost:8080/"
        },
        "id": "0RXlLzjjOEZ8",
        "outputId": "2f574943-672a-4a91-fece-ee28668ad9e2"
      },
      "outputs": [
        {
          "output_type": "stream",
          "name": "stdout",
          "text": [
            "Mint\n",
            "Debian\n",
            "Ubuntu\n",
            "Manjaro\n",
            "Fedora\n",
            "Arch\n"
          ]
        }
      ],
      "source": [
        "fav_linux_distros = ['Mint', 'Debian', 'Ubuntu', 'Manjaro', 'Fedora', 'Arch']\n",
        "\n",
        "print(fav_linux_distros[0])\n",
        "print(fav_linux_distros[1])\n",
        "print(fav_linux_distros[2])\n",
        "print(fav_linux_distros[3])\n",
        "print(fav_linux_distros[4])\n",
        "print(fav_linux_distros[5])"
      ]
    },
    {
      "cell_type": "code",
      "source": [
        "fav_linux_distros = ['Mint', 'Debian', 'Ubuntu', 'Manjaro', 'Fedora', 'Arch']\n",
        "\n",
        "for distro in fav_linux_distros:\n",
        "\tprint(distro)"
      ],
      "metadata": {
        "colab": {
          "base_uri": "https://localhost:8080/"
        },
        "id": "EqGDbfnOOPiC",
        "outputId": "bdd5a2c6-c53b-4cf7-81ec-07c7ef2b4ab4"
      },
      "execution_count": 2,
      "outputs": [
        {
          "output_type": "stream",
          "name": "stdout",
          "text": [
            "Mint\n",
            "Debian\n",
            "Ubuntu\n",
            "Manjaro\n",
            "Fedora\n",
            "Arch\n"
          ]
        }
      ]
    },
    {
      "cell_type": "code",
      "source": [
        "fav_linux_distros = ['Mint', 'Debian', 'Ubuntu', 'Manjaro', 'Fedora', 'Arch']\n",
        "\n",
        "for distro in fav_linux_distros:\n",
        "    if (distro == 'Fedora'):\n",
        "        fav_linux_distros.append(\"Kali\")\n",
        "        print(\"... Added Kali\")\n",
        "    print(distro)"
      ],
      "metadata": {
        "colab": {
          "base_uri": "https://localhost:8080/"
        },
        "id": "8Rq6XGHqOUFO",
        "outputId": "a3e3198c-cb44-4a38-a041-4186dad7bea3"
      },
      "execution_count": 3,
      "outputs": [
        {
          "output_type": "stream",
          "name": "stdout",
          "text": [
            "Mint\n",
            "Debian\n",
            "Ubuntu\n",
            "Manjaro\n",
            "... Added Kali\n",
            "Fedora\n",
            "Arch\n",
            "Kali\n"
          ]
        }
      ]
    },
    {
      "cell_type": "code",
      "source": [
        "for counter in range(1,5):\n",
        "    print(counter)"
      ],
      "metadata": {
        "colab": {
          "base_uri": "https://localhost:8080/"
        },
        "id": "6sYjwk6IQvwY",
        "outputId": "0e5326c6-f7c3-4ef9-ad71-5e0ea9a66d39"
      },
      "execution_count": 4,
      "outputs": [
        {
          "output_type": "stream",
          "name": "stdout",
          "text": [
            "1\n",
            "2\n",
            "3\n",
            "4\n"
          ]
        }
      ]
    },
    {
      "cell_type": "code",
      "source": [
        "tasks_total = 30\n",
        "tasks_done = 23\n",
        "\n",
        "tasks_display = \"[\"\n",
        "current_block = 0\n",
        "\n",
        "for block in range(1, tasks_total + 1):\n",
        "    current_block += 1\n",
        "    if (current_block <= tasks_done):\n",
        "        tasks_display += \"#\"\n",
        "    else:\n",
        "        tasks_display += \" \"\n",
        "\n",
        "tasks_display += \"]\"\n",
        "\n",
        "print(\"%s : %d of %d\" % (tasks_display, tasks_done, tasks_total))"
      ],
      "metadata": {
        "colab": {
          "base_uri": "https://localhost:8080/"
        },
        "id": "BHvE5101Q0t6",
        "outputId": "f31760bf-44c9-4a3a-dec5-736e58c16742"
      },
      "execution_count": 5,
      "outputs": [
        {
          "output_type": "stream",
          "name": "stdout",
          "text": [
            "[#######################       ] : 23 of 30\n"
          ]
        }
      ]
    },
    {
      "cell_type": "code",
      "source": [
        "user_profile = {\n",
        "    'name': 'John Smith',\n",
        "    'fav_distro': 'Ubuntu',\n",
        "    'fav_drink': 'Tea'\n",
        "}\n",
        "\n",
        "for key, value in user_profile.items():\n",
        "    print('Key: ' + key)\n",
        "    print('Value: ' + value + '\\n')"
      ],
      "metadata": {
        "colab": {
          "base_uri": "https://localhost:8080/"
        },
        "id": "bgE3E5I1RFWy",
        "outputId": "15f02db4-6bc8-4a53-d275-cbada93e4c0a"
      },
      "execution_count": 6,
      "outputs": [
        {
          "output_type": "stream",
          "name": "stdout",
          "text": [
            "Key: name\n",
            "Value: John Smith\n",
            "\n",
            "Key: fav_distro\n",
            "Value: Ubuntu\n",
            "\n",
            "Key: fav_drink\n",
            "Value: Tea\n",
            "\n"
          ]
        }
      ]
    },
    {
      "cell_type": "code",
      "source": [
        "grid_width = 24\n",
        "grid_height = 12\n",
        "\n",
        "blocks = [[8,3],[17,3],[8,4],[17,4],[8,5],[17,5],[5,7],[20,7],[5,8],[20,8],[6,9],[7,9],[18,9],[19,9],[8,10],[9,10],[10,10],[11,10],[12,10],[13,10],[14,10],[15,10],[16,10],[17,10]]\n",
        "\n",
        "output = \"\"\n",
        "for y in range(1, grid_height + 1):\n",
        "    for x in range(1, grid_width + 1):\n",
        "        char = \".\"\n",
        "        for data in blocks:\n",
        "            if (x == data[0] and y == data[1]):\n",
        " \t            char = \"|\"\n",
        "        output += char\n",
        "    output += \"\\n\"\n",
        "\n",
        "print(output)"
      ],
      "metadata": {
        "colab": {
          "base_uri": "https://localhost:8080/"
        },
        "id": "BdNd6p6iRbRg",
        "outputId": "e8a2e82b-c21d-49a9-9c98-6dde04d56622"
      },
      "execution_count": 9,
      "outputs": [
        {
          "output_type": "stream",
          "name": "stdout",
          "text": [
            "........................\n",
            "........................\n",
            ".......|........|.......\n",
            ".......|........|.......\n",
            ".......|........|.......\n",
            "........................\n",
            "....|..............|....\n",
            "....|..............|....\n",
            ".....||..........||.....\n",
            ".......||||||||||.......\n",
            "........................\n",
            "........................\n",
            "\n"
          ]
        }
      ]
    },
    {
      "cell_type": "code",
      "source": [
        "grid_width = 24\n",
        "grid_height = 12\n",
        "\n",
        "blocks = [[8,3],[17,3],[8,4],[17,4],[8,5],[17,5],[5,7],[20,7],[5,8],[20,8],[6,9],[7,9],[18,9],[19,9],[8,10],[9,10],[10,10],[11,10],[12,10],[13,10],[14,10],[15,10],[16,10],[17,10]]\n",
        "\n",
        "output = \"\"\n",
        "for y in range(1, grid_height + 1):\n",
        "    for x in range(1, grid_width + 1):\n",
        "        if [x,y] in blocks:\n",
        "            output += \"#\"\n",
        "        else:\n",
        "            output += \".\"\n",
        "\n",
        "    output += \"\\n\"\n",
        "\n",
        "print(output)"
      ],
      "metadata": {
        "colab": {
          "base_uri": "https://localhost:8080/"
        },
        "id": "JvUwpBcjRs4p",
        "outputId": "65fc431c-c952-407d-9cdc-c13bdcdc6110"
      },
      "execution_count": 10,
      "outputs": [
        {
          "output_type": "stream",
          "name": "stdout",
          "text": [
            "........................\n",
            "........................\n",
            ".......#........#.......\n",
            ".......#........#.......\n",
            ".......#........#.......\n",
            "........................\n",
            "....#..............#....\n",
            "....#..............#....\n",
            ".....##..........##.....\n",
            ".......##########.......\n",
            "........................\n",
            "........................\n",
            "\n"
          ]
        }
      ]
    }
  ]
}